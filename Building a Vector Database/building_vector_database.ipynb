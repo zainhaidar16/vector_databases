{
 "cells": [
  {
   "cell_type": "code",
   "execution_count": 15,
   "metadata": {},
   "outputs": [],
   "source": [
    "import os\n",
    "import weaviate\n",
    "from weaviate.classes.init import Auth\n",
    "import weaviate.classes as weaviate_classes"
   ]
  },
  {
   "cell_type": "code",
   "execution_count": 17,
   "metadata": {},
   "outputs": [
    {
     "name": "stdout",
     "output_type": "stream",
     "text": [
      "True\n"
     ]
    }
   ],
   "source": [
    "weaviate_url = os.environ[\"WEAVIATE_URL\"]\n",
    "weaviate_api_key = os.environ[\"WEAVIATE_API_KEY\"]\n",
    "cohere_api_key = os.environ[\"COHERE_APIKEY\"]\n",
    "\n",
    "# Connect to Weaviate Cloud\n",
    "client = weaviate.connect_to_wcs(\n",
    "    cluster_url=weaviate_url,\n",
    "    auth_credentials=Auth.api_key(weaviate_api_key),\n",
    "    headers={\n",
    "        \"X-Cohere-Api-Key\": cohere_api_key\n",
    "    }\n",
    ")\n",
    "\n",
    "print(client.is_ready())"
   ]
  },
  {
   "cell_type": "code",
   "execution_count": 20,
   "metadata": {},
   "outputs": [
    {
     "data": {
      "text/plain": [
       "<weaviate.collections.collection.sync.Collection at 0x2bf92476f50>"
      ]
     },
     "execution_count": 20,
     "metadata": {},
     "output_type": "execute_result"
    }
   ],
   "source": [
    "# CREATE AN OBJECT COLLECTION\n",
    "\n",
    "client.collections.create(\n",
    "    # Set the name of the collection\n",
    "    name=\"Movie\",\n",
    "\n",
    "    # Set modules to be used\n",
    "    vectorizer_config=weaviate_classes.config.Configure.Vectorizer.text2vec_cohere(),    # Set the vectorizer module\n",
    "    generative_config=weaviate_classes.config.Configure.Generative.cohere(),             # Set the generative module\n",
    "    # Note: Could also explicitly set the model, e.g.:\n",
    "    # generative_config=weaviate_classes.config.Configure.Generative.openai(model=\"gpt-4-1106-preview\"),\n",
    "\n",
    "    # Define the properties of the collection\n",
    "    properties=[\n",
    "        weaviate_classes.config.Property(\n",
    "            # Set the name of the property\n",
    "            name=\"title\",\n",
    "            # Set the data type of the property\n",
    "            data_type=weaviate_classes.config.DataType.TEXT,\n",
    "        ),\n",
    "        weaviate_classes.config.Property(\n",
    "            name=\"description\",\n",
    "            data_type=weaviate_classes.config.DataType.TEXT,\n",
    "        ),\n",
    "        weaviate_classes.config.Property(\n",
    "            name=\"movie_id\",\n",
    "            data_type=weaviate_classes.config.DataType.INT,\n",
    "        ),\n",
    "        weaviate_classes.config.Property(\n",
    "            name=\"year\",\n",
    "            data_type=weaviate_classes.config.DataType.INT,\n",
    "        ),\n",
    "        weaviate_classes.config.Property(\n",
    "            name=\"rating\",\n",
    "            data_type=weaviate_classes.config.DataType.NUMBER,\n",
    "        ),\n",
    "        weaviate_classes.config.Property(\n",
    "            name=\"director\",\n",
    "            data_type=weaviate_classes.config.DataType.TEXT,\n",
    "            skip_vectorization=True,\n",
    "        ),\n",
    "    ],\n",
    ")"
   ]
  },
  {
   "cell_type": "code",
   "execution_count": null,
   "metadata": {},
   "outputs": [],
   "source": [
    "# DATA INGESTION\n",
    "\n"
   ]
  }
 ],
 "metadata": {
  "kernelspec": {
   "display_name": "venv",
   "language": "python",
   "name": "python3"
  },
  "language_info": {
   "codemirror_mode": {
    "name": "ipython",
    "version": 3
   },
   "file_extension": ".py",
   "mimetype": "text/x-python",
   "name": "python",
   "nbconvert_exporter": "python",
   "pygments_lexer": "ipython3",
   "version": "3.11.2"
  }
 },
 "nbformat": 4,
 "nbformat_minor": 2
}
